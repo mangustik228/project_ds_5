{
 "cells": [
  {
   "cell_type": "markdown",
   "metadata": {},
   "source": [
    "## Определение перспективного тарифа телекомпании"
   ]
  },
  {
   "cell_type": "markdown",
   "metadata": {},
   "source": [
    "### Описание проекта"
   ]
  },
  {
   "cell_type": "markdown",
   "metadata": {},
   "source": [
    "У компании есть два тарифных планах \"Смарт\" и \"Ультра\", необходимо определить какой тариф приносит больше денег по выборке 500 клиентов.\n",
    "  \n",
    "| |«Смарт»|«Ультра»|\n",
    "|--|--|--|\n",
    "|Ежемесячная оплата|550|1950|\n",
    "|Включено:|||\n",
    "|Минут разговора|500|3000|\n",
    "|Сообщений|50|1000|\n",
    "|Гб трафика|15|30|\n",
    "|Стоимость свыше:|||\n",
    "|Минут разговора|3|1|\n",
    "|Сообщений|3|1|\n",
    "|Гб трафика|200|150|\n",
    "\n",
    "Проверить 2 гипотезы:  \n",
    "- Средняя выручка тарифов «Ультра» и «Смарт» различаются \n",
    "- Средняя выручка пользователей из Москвы отличается от выручки пользователей из других регионов"
   ]
  },
  {
   "cell_type": "markdown",
   "metadata": {},
   "source": [
    "### Знакомство с данными и придение к нужным типам данных"
   ]
  },
  {
   "cell_type": "code",
   "execution_count": 141,
   "metadata": {},
   "outputs": [],
   "source": [
    "import pandas as pd\n",
    "import matplotlib\n",
    "import plotly.express as px\n",
    "import matplotlib.pyplot as plt\n",
    "import numpy as np\n",
    "from scipy import stats as st\n",
    "matplotlib.style.use('seaborn-pastel')"
   ]
  },
  {
   "cell_type": "code",
   "execution_count": 6,
   "metadata": {},
   "outputs": [],
   "source": [
    "pd.options.display.float_format ='{:,.3f}'.format"
   ]
  },
  {
   "cell_type": "code",
   "execution_count": 7,
   "metadata": {},
   "outputs": [],
   "source": [
    "try:\n",
    "    df_users = pd.read_csv('users.csv', parse_dates=['churn_date', 'reg_date'])\n",
    "    df_calls = pd.read_csv('calls.csv', parse_dates=['call_date'])\n",
    "    df_messages = pd.read_csv('messages.csv', parse_dates=['message_date'])\n",
    "    df_internet = pd.read_csv('internet.csv', parse_dates=['session_date'])\n",
    "    df_tariffs = pd.read_csv('tariffs.csv')\n",
    "except:\n",
    "    df_users = pd.read_csv('/datasets/users.csv', parse_dates=['churn_date', 'reg_date'])\n",
    "    df_calls = pd.read_csv('/datasets/calls.csv', parse_dates=['call_date'])\n",
    "    df_messages = pd.read_csv('/datasets/messages.csv', parse_dates=['message_date'])\n",
    "    df_internet = pd.read_csv('/datasets/internet.csv', parse_dates=['session_date'])\n",
    "    df_tariffs = pd.read_csv('/datasets/tariffs.csv')"
   ]
  },
  {
   "cell_type": "code",
   "execution_count": 8,
   "metadata": {},
   "outputs": [
    {
     "name": "stdout",
     "output_type": "stream",
     "text": [
      "<class 'pandas.core.frame.DataFrame'>\n",
      "RangeIndex: 500 entries, 0 to 499\n",
      "Data columns (total 8 columns):\n",
      " #   Column      Non-Null Count  Dtype         \n",
      "---  ------      --------------  -----         \n",
      " 0   user_id     500 non-null    int64         \n",
      " 1   age         500 non-null    int64         \n",
      " 2   churn_date  38 non-null     datetime64[ns]\n",
      " 3   city        500 non-null    object        \n",
      " 4   first_name  500 non-null    object        \n",
      " 5   last_name   500 non-null    object        \n",
      " 6   reg_date    500 non-null    datetime64[ns]\n",
      " 7   tariff      500 non-null    object        \n",
      "dtypes: datetime64[ns](2), int64(2), object(4)\n",
      "memory usage: 31.4+ KB\n"
     ]
    }
   ],
   "source": [
    "df_users.info()"
   ]
  },
  {
   "cell_type": "code",
   "execution_count": 9,
   "metadata": {},
   "outputs": [
    {
     "data": {
      "text/html": [
       "<div>\n",
       "<style scoped>\n",
       "    .dataframe tbody tr th:only-of-type {\n",
       "        vertical-align: middle;\n",
       "    }\n",
       "\n",
       "    .dataframe tbody tr th {\n",
       "        vertical-align: top;\n",
       "    }\n",
       "\n",
       "    .dataframe thead th {\n",
       "        text-align: right;\n",
       "    }\n",
       "</style>\n",
       "<table border=\"1\" class=\"dataframe\">\n",
       "  <thead>\n",
       "    <tr style=\"text-align: right;\">\n",
       "      <th></th>\n",
       "      <th>user_id</th>\n",
       "      <th>age</th>\n",
       "      <th>churn_date</th>\n",
       "      <th>city</th>\n",
       "      <th>first_name</th>\n",
       "      <th>last_name</th>\n",
       "      <th>reg_date</th>\n",
       "      <th>tariff</th>\n",
       "    </tr>\n",
       "  </thead>\n",
       "  <tbody>\n",
       "  </tbody>\n",
       "</table>\n",
       "</div>"
      ],
      "text/plain": [
       "Empty DataFrame\n",
       "Columns: [user_id, age, churn_date, city, first_name, last_name, reg_date, tariff]\n",
       "Index: []"
      ]
     },
     "execution_count": 9,
     "metadata": {},
     "output_type": "execute_result"
    }
   ],
   "source": [
    "df_users[df_users.duplicated(subset=['last_name', 'first_name'])]"
   ]
  },
  {
   "cell_type": "code",
   "execution_count": 10,
   "metadata": {},
   "outputs": [
    {
     "data": {
      "text/plain": [
       "smart    351\n",
       "ultra    149\n",
       "Name: tariff, dtype: int64"
      ]
     },
     "execution_count": 10,
     "metadata": {},
     "output_type": "execute_result"
    }
   ],
   "source": [
    "df_users['tariff'].value_counts()"
   ]
  },
  {
   "cell_type": "markdown",
   "metadata": {},
   "source": [
    "`df_users` - дубликатов нет, пропущенные значения только в дате прекращения пользования тарифом(но согласно документации, данный тариф действующий). Все данные в правильных форматах."
   ]
  },
  {
   "cell_type": "code",
   "execution_count": 11,
   "metadata": {},
   "outputs": [
    {
     "name": "stdout",
     "output_type": "stream",
     "text": [
      "<class 'pandas.core.frame.DataFrame'>\n",
      "RangeIndex: 202607 entries, 0 to 202606\n",
      "Data columns (total 4 columns):\n",
      " #   Column     Non-Null Count   Dtype         \n",
      "---  ------     --------------   -----         \n",
      " 0   id         202607 non-null  object        \n",
      " 1   call_date  202607 non-null  datetime64[ns]\n",
      " 2   duration   202607 non-null  float64       \n",
      " 3   user_id    202607 non-null  int64         \n",
      "dtypes: datetime64[ns](1), float64(1), int64(1), object(1)\n",
      "memory usage: 6.2+ MB\n"
     ]
    }
   ],
   "source": [
    "df_calls.info()"
   ]
  },
  {
   "cell_type": "code",
   "execution_count": 12,
   "metadata": {},
   "outputs": [
    {
     "data": {
      "text/html": [
       "<div>\n",
       "<style scoped>\n",
       "    .dataframe tbody tr th:only-of-type {\n",
       "        vertical-align: middle;\n",
       "    }\n",
       "\n",
       "    .dataframe tbody tr th {\n",
       "        vertical-align: top;\n",
       "    }\n",
       "\n",
       "    .dataframe thead th {\n",
       "        text-align: right;\n",
       "    }\n",
       "</style>\n",
       "<table border=\"1\" class=\"dataframe\">\n",
       "  <thead>\n",
       "    <tr style=\"text-align: right;\">\n",
       "      <th></th>\n",
       "      <th>id</th>\n",
       "      <th>call_date</th>\n",
       "      <th>duration</th>\n",
       "      <th>user_id</th>\n",
       "    </tr>\n",
       "  </thead>\n",
       "  <tbody>\n",
       "  </tbody>\n",
       "</table>\n",
       "</div>"
      ],
      "text/plain": [
       "Empty DataFrame\n",
       "Columns: [id, call_date, duration, user_id]\n",
       "Index: []"
      ]
     },
     "execution_count": 12,
     "metadata": {},
     "output_type": "execute_result"
    }
   ],
   "source": [
    "df_calls[df_calls.duplicated(subset='id')]"
   ]
  },
  {
   "cell_type": "markdown",
   "metadata": {},
   "source": [
    "`df_calls` - необходимо поправить duration(длительность звонка в минутах), т.к. в описании тарифа должно быть округление до целого. соответственно привести к int. еще конечно в идеале id хранить в int, но не уверен что стоит сейчас это делать."
   ]
  },
  {
   "cell_type": "code",
   "execution_count": 13,
   "metadata": {},
   "outputs": [
    {
     "data": {
      "text/html": [
       "<div>\n",
       "<style scoped>\n",
       "    .dataframe tbody tr th:only-of-type {\n",
       "        vertical-align: middle;\n",
       "    }\n",
       "\n",
       "    .dataframe tbody tr th {\n",
       "        vertical-align: top;\n",
       "    }\n",
       "\n",
       "    .dataframe thead th {\n",
       "        text-align: right;\n",
       "    }\n",
       "</style>\n",
       "<table border=\"1\" class=\"dataframe\">\n",
       "  <thead>\n",
       "    <tr style=\"text-align: right;\">\n",
       "      <th></th>\n",
       "      <th>id</th>\n",
       "      <th>call_date</th>\n",
       "      <th>duration</th>\n",
       "      <th>user_id</th>\n",
       "    </tr>\n",
       "  </thead>\n",
       "  <tbody>\n",
       "    <tr>\n",
       "      <th>0</th>\n",
       "      <td>1000_0</td>\n",
       "      <td>2018-07-25</td>\n",
       "      <td>0.000</td>\n",
       "      <td>1000</td>\n",
       "    </tr>\n",
       "    <tr>\n",
       "      <th>1</th>\n",
       "      <td>1000_1</td>\n",
       "      <td>2018-08-17</td>\n",
       "      <td>0.000</td>\n",
       "      <td>1000</td>\n",
       "    </tr>\n",
       "    <tr>\n",
       "      <th>2</th>\n",
       "      <td>1000_2</td>\n",
       "      <td>2018-06-11</td>\n",
       "      <td>2.850</td>\n",
       "      <td>1000</td>\n",
       "    </tr>\n",
       "    <tr>\n",
       "      <th>3</th>\n",
       "      <td>1000_3</td>\n",
       "      <td>2018-09-21</td>\n",
       "      <td>13.800</td>\n",
       "      <td>1000</td>\n",
       "    </tr>\n",
       "    <tr>\n",
       "      <th>4</th>\n",
       "      <td>1000_4</td>\n",
       "      <td>2018-12-15</td>\n",
       "      <td>5.180</td>\n",
       "      <td>1000</td>\n",
       "    </tr>\n",
       "  </tbody>\n",
       "</table>\n",
       "</div>"
      ],
      "text/plain": [
       "       id  call_date  duration  user_id\n",
       "0  1000_0 2018-07-25     0.000     1000\n",
       "1  1000_1 2018-08-17     0.000     1000\n",
       "2  1000_2 2018-06-11     2.850     1000\n",
       "3  1000_3 2018-09-21    13.800     1000\n",
       "4  1000_4 2018-12-15     5.180     1000"
      ]
     },
     "execution_count": 13,
     "metadata": {},
     "output_type": "execute_result"
    }
   ],
   "source": [
    "df_calls.head(5)"
   ]
  },
  {
   "cell_type": "code",
   "execution_count": 14,
   "metadata": {},
   "outputs": [
    {
     "data": {
      "text/html": [
       "<div>\n",
       "<style scoped>\n",
       "    .dataframe tbody tr th:only-of-type {\n",
       "        vertical-align: middle;\n",
       "    }\n",
       "\n",
       "    .dataframe tbody tr th {\n",
       "        vertical-align: top;\n",
       "    }\n",
       "\n",
       "    .dataframe thead th {\n",
       "        text-align: right;\n",
       "    }\n",
       "</style>\n",
       "<table border=\"1\" class=\"dataframe\">\n",
       "  <thead>\n",
       "    <tr style=\"text-align: right;\">\n",
       "      <th></th>\n",
       "      <th>id</th>\n",
       "      <th>call_date</th>\n",
       "      <th>duration</th>\n",
       "      <th>user_id</th>\n",
       "    </tr>\n",
       "  </thead>\n",
       "  <tbody>\n",
       "    <tr>\n",
       "      <th>0</th>\n",
       "      <td>1000_0</td>\n",
       "      <td>2018-07-25</td>\n",
       "      <td>0</td>\n",
       "      <td>1000</td>\n",
       "    </tr>\n",
       "    <tr>\n",
       "      <th>1</th>\n",
       "      <td>1000_1</td>\n",
       "      <td>2018-08-17</td>\n",
       "      <td>0</td>\n",
       "      <td>1000</td>\n",
       "    </tr>\n",
       "    <tr>\n",
       "      <th>2</th>\n",
       "      <td>1000_2</td>\n",
       "      <td>2018-06-11</td>\n",
       "      <td>3</td>\n",
       "      <td>1000</td>\n",
       "    </tr>\n",
       "    <tr>\n",
       "      <th>3</th>\n",
       "      <td>1000_3</td>\n",
       "      <td>2018-09-21</td>\n",
       "      <td>14</td>\n",
       "      <td>1000</td>\n",
       "    </tr>\n",
       "    <tr>\n",
       "      <th>4</th>\n",
       "      <td>1000_4</td>\n",
       "      <td>2018-12-15</td>\n",
       "      <td>6</td>\n",
       "      <td>1000</td>\n",
       "    </tr>\n",
       "  </tbody>\n",
       "</table>\n",
       "</div>"
      ],
      "text/plain": [
       "       id  call_date  duration  user_id\n",
       "0  1000_0 2018-07-25         0     1000\n",
       "1  1000_1 2018-08-17         0     1000\n",
       "2  1000_2 2018-06-11         3     1000\n",
       "3  1000_3 2018-09-21        14     1000\n",
       "4  1000_4 2018-12-15         6     1000"
      ]
     },
     "execution_count": 14,
     "metadata": {},
     "output_type": "execute_result"
    }
   ],
   "source": [
    "df_calls['duration'] = np.ceil(df_calls['duration']).astype(int)\n",
    "df_calls.head(5)"
   ]
  },
  {
   "cell_type": "code",
   "execution_count": 15,
   "metadata": {},
   "outputs": [
    {
     "name": "stdout",
     "output_type": "stream",
     "text": [
      "<class 'pandas.core.frame.DataFrame'>\n",
      "RangeIndex: 202607 entries, 0 to 202606\n",
      "Data columns (total 4 columns):\n",
      " #   Column     Non-Null Count   Dtype         \n",
      "---  ------     --------------   -----         \n",
      " 0   id         202607 non-null  object        \n",
      " 1   call_date  202607 non-null  datetime64[ns]\n",
      " 2   duration   202607 non-null  int32         \n",
      " 3   user_id    202607 non-null  int64         \n",
      "dtypes: datetime64[ns](1), int32(1), int64(1), object(1)\n",
      "memory usage: 5.4+ MB\n"
     ]
    }
   ],
   "source": [
    "df_calls.info()"
   ]
  },
  {
   "cell_type": "code",
   "execution_count": 16,
   "metadata": {},
   "outputs": [
    {
     "name": "stdout",
     "output_type": "stream",
     "text": [
      "<class 'pandas.core.frame.DataFrame'>\n",
      "RangeIndex: 123036 entries, 0 to 123035\n",
      "Data columns (total 3 columns):\n",
      " #   Column        Non-Null Count   Dtype         \n",
      "---  ------        --------------   -----         \n",
      " 0   id            123036 non-null  object        \n",
      " 1   message_date  123036 non-null  datetime64[ns]\n",
      " 2   user_id       123036 non-null  int64         \n",
      "dtypes: datetime64[ns](1), int64(1), object(1)\n",
      "memory usage: 2.8+ MB\n"
     ]
    }
   ],
   "source": [
    "df_messages.info()"
   ]
  },
  {
   "cell_type": "markdown",
   "metadata": {},
   "source": [
    "`df_messages` - Проблем не обнаружено, вроде все ок и все в правильном типе. Разве что можно поменять id на int"
   ]
  },
  {
   "cell_type": "code",
   "execution_count": 17,
   "metadata": {},
   "outputs": [
    {
     "name": "stdout",
     "output_type": "stream",
     "text": [
      "<class 'pandas.core.frame.DataFrame'>\n",
      "RangeIndex: 149396 entries, 0 to 149395\n",
      "Data columns (total 5 columns):\n",
      " #   Column        Non-Null Count   Dtype         \n",
      "---  ------        --------------   -----         \n",
      " 0   Unnamed: 0    149396 non-null  int64         \n",
      " 1   id            149396 non-null  object        \n",
      " 2   mb_used       149396 non-null  float64       \n",
      " 3   session_date  149396 non-null  datetime64[ns]\n",
      " 4   user_id       149396 non-null  int64         \n",
      "dtypes: datetime64[ns](1), float64(1), int64(2), object(1)\n",
      "memory usage: 5.7+ MB\n"
     ]
    }
   ],
   "source": [
    "df_internet.info()"
   ]
  },
  {
   "cell_type": "code",
   "execution_count": 18,
   "metadata": {},
   "outputs": [
    {
     "data": {
      "text/html": [
       "<div>\n",
       "<style scoped>\n",
       "    .dataframe tbody tr th:only-of-type {\n",
       "        vertical-align: middle;\n",
       "    }\n",
       "\n",
       "    .dataframe tbody tr th {\n",
       "        vertical-align: top;\n",
       "    }\n",
       "\n",
       "    .dataframe thead th {\n",
       "        text-align: right;\n",
       "    }\n",
       "</style>\n",
       "<table border=\"1\" class=\"dataframe\">\n",
       "  <thead>\n",
       "    <tr style=\"text-align: right;\">\n",
       "      <th></th>\n",
       "      <th>Unnamed: 0</th>\n",
       "      <th>id</th>\n",
       "      <th>mb_used</th>\n",
       "      <th>session_date</th>\n",
       "      <th>user_id</th>\n",
       "    </tr>\n",
       "  </thead>\n",
       "  <tbody>\n",
       "    <tr>\n",
       "      <th>0</th>\n",
       "      <td>0</td>\n",
       "      <td>1000_0</td>\n",
       "      <td>112.950</td>\n",
       "      <td>2018-11-25</td>\n",
       "      <td>1000</td>\n",
       "    </tr>\n",
       "    <tr>\n",
       "      <th>1</th>\n",
       "      <td>1</td>\n",
       "      <td>1000_1</td>\n",
       "      <td>1,052.810</td>\n",
       "      <td>2018-09-07</td>\n",
       "      <td>1000</td>\n",
       "    </tr>\n",
       "    <tr>\n",
       "      <th>2</th>\n",
       "      <td>2</td>\n",
       "      <td>1000_2</td>\n",
       "      <td>1,197.260</td>\n",
       "      <td>2018-06-25</td>\n",
       "      <td>1000</td>\n",
       "    </tr>\n",
       "    <tr>\n",
       "      <th>3</th>\n",
       "      <td>3</td>\n",
       "      <td>1000_3</td>\n",
       "      <td>550.270</td>\n",
       "      <td>2018-08-22</td>\n",
       "      <td>1000</td>\n",
       "    </tr>\n",
       "    <tr>\n",
       "      <th>4</th>\n",
       "      <td>4</td>\n",
       "      <td>1000_4</td>\n",
       "      <td>302.560</td>\n",
       "      <td>2018-09-24</td>\n",
       "      <td>1000</td>\n",
       "    </tr>\n",
       "  </tbody>\n",
       "</table>\n",
       "</div>"
      ],
      "text/plain": [
       "   Unnamed: 0      id   mb_used session_date  user_id\n",
       "0           0  1000_0   112.950   2018-11-25     1000\n",
       "1           1  1000_1 1,052.810   2018-09-07     1000\n",
       "2           2  1000_2 1,197.260   2018-06-25     1000\n",
       "3           3  1000_3   550.270   2018-08-22     1000\n",
       "4           4  1000_4   302.560   2018-09-24     1000"
      ]
     },
     "execution_count": 18,
     "metadata": {},
     "output_type": "execute_result"
    }
   ],
   "source": [
    "df_internet.head(5)"
   ]
  },
  {
   "cell_type": "markdown",
   "metadata": {},
   "source": [
    "`df_internet` : Затисалась странная колонка, которую стоит удалить. мб надо будет перевести в гб, после того сделается сводная таблица"
   ]
  },
  {
   "cell_type": "code",
   "execution_count": 19,
   "metadata": {},
   "outputs": [],
   "source": [
    "df_internet.drop(columns='Unnamed: 0', inplace=True)"
   ]
  },
  {
   "cell_type": "code",
   "execution_count": 20,
   "metadata": {},
   "outputs": [
    {
     "name": "stdout",
     "output_type": "stream",
     "text": [
      "<class 'pandas.core.frame.DataFrame'>\n",
      "RangeIndex: 2 entries, 0 to 1\n",
      "Data columns (total 8 columns):\n",
      " #   Column                 Non-Null Count  Dtype \n",
      "---  ------                 --------------  ----- \n",
      " 0   messages_included      2 non-null      int64 \n",
      " 1   mb_per_month_included  2 non-null      int64 \n",
      " 2   minutes_included       2 non-null      int64 \n",
      " 3   rub_monthly_fee        2 non-null      int64 \n",
      " 4   rub_per_gb             2 non-null      int64 \n",
      " 5   rub_per_message        2 non-null      int64 \n",
      " 6   rub_per_minute         2 non-null      int64 \n",
      " 7   tariff_name            2 non-null      object\n",
      "dtypes: int64(7), object(1)\n",
      "memory usage: 256.0+ bytes\n"
     ]
    }
   ],
   "source": [
    "df_tariffs.info()"
   ]
  },
  {
   "cell_type": "code",
   "execution_count": 21,
   "metadata": {},
   "outputs": [
    {
     "data": {
      "text/html": [
       "<div>\n",
       "<style scoped>\n",
       "    .dataframe tbody tr th:only-of-type {\n",
       "        vertical-align: middle;\n",
       "    }\n",
       "\n",
       "    .dataframe tbody tr th {\n",
       "        vertical-align: top;\n",
       "    }\n",
       "\n",
       "    .dataframe thead th {\n",
       "        text-align: right;\n",
       "    }\n",
       "</style>\n",
       "<table border=\"1\" class=\"dataframe\">\n",
       "  <thead>\n",
       "    <tr style=\"text-align: right;\">\n",
       "      <th></th>\n",
       "      <th>messages_included</th>\n",
       "      <th>mb_per_month_included</th>\n",
       "      <th>minutes_included</th>\n",
       "      <th>rub_monthly_fee</th>\n",
       "      <th>rub_per_gb</th>\n",
       "      <th>rub_per_message</th>\n",
       "      <th>rub_per_minute</th>\n",
       "      <th>tariff_name</th>\n",
       "    </tr>\n",
       "  </thead>\n",
       "  <tbody>\n",
       "    <tr>\n",
       "      <th>0</th>\n",
       "      <td>50</td>\n",
       "      <td>15360</td>\n",
       "      <td>500</td>\n",
       "      <td>550</td>\n",
       "      <td>200</td>\n",
       "      <td>3</td>\n",
       "      <td>3</td>\n",
       "      <td>smart</td>\n",
       "    </tr>\n",
       "    <tr>\n",
       "      <th>1</th>\n",
       "      <td>1000</td>\n",
       "      <td>30720</td>\n",
       "      <td>3000</td>\n",
       "      <td>1950</td>\n",
       "      <td>150</td>\n",
       "      <td>1</td>\n",
       "      <td>1</td>\n",
       "      <td>ultra</td>\n",
       "    </tr>\n",
       "  </tbody>\n",
       "</table>\n",
       "</div>"
      ],
      "text/plain": [
       "   messages_included  mb_per_month_included  minutes_included  \\\n",
       "0                 50                  15360               500   \n",
       "1               1000                  30720              3000   \n",
       "\n",
       "   rub_monthly_fee  rub_per_gb  rub_per_message  rub_per_minute tariff_name  \n",
       "0              550         200                3               3       smart  \n",
       "1             1950         150                1               1       ultra  "
      ]
     },
     "execution_count": 21,
     "metadata": {},
     "output_type": "execute_result"
    }
   ],
   "source": [
    "df_tariffs.head(5)"
   ]
  },
  {
   "cell_type": "markdown",
   "metadata": {},
   "source": [
    "`df_tariffs` - все ок."
   ]
  },
  {
   "cell_type": "markdown",
   "metadata": {},
   "source": [
    "**Общий вывод**:  \n",
    "В целом данные хорошие, пропусков нет, дубликатов нет, возможно появяться скрытые проблемы после того как начну группировать/ проводить аналитику"
   ]
  },
  {
   "cell_type": "markdown",
   "metadata": {},
   "source": [
    "### Добавление колонок и создание сводных таблиц"
   ]
  },
  {
   "cell_type": "code",
   "execution_count": 22,
   "metadata": {},
   "outputs": [
    {
     "data": {
      "text/plain": [
       "count                           123036\n",
       "mean     2018-09-04 15:28:42.227640576\n",
       "min                2018-01-02 00:00:00\n",
       "25%                2018-07-09 00:00:00\n",
       "50%                2018-09-20 00:00:00\n",
       "75%                2018-11-14 00:00:00\n",
       "max                2018-12-31 00:00:00\n",
       "Name: message_date, dtype: object"
      ]
     },
     "execution_count": 22,
     "metadata": {},
     "output_type": "execute_result"
    }
   ],
   "source": [
    "# Проверка что все действия за 2018год и не вписалось ничего лишнего\n",
    "df_calls['call_date'].describe(datetime_is_numeric=True)\n",
    "df_internet['session_date'].describe(datetime_is_numeric=True)\n",
    "df_messages['message_date'].describe(datetime_is_numeric=True)"
   ]
  },
  {
   "cell_type": "code",
   "execution_count": 23,
   "metadata": {},
   "outputs": [],
   "source": [
    "df_calls['call_month'] = df_calls['call_date'].dt.month\n",
    "df_internet['internet_month'] = df_internet['session_date'].dt.month\n",
    "df_messages['message_month'] = df_messages['message_date'].dt.month"
   ]
  },
  {
   "cell_type": "code",
   "execution_count": 24,
   "metadata": {},
   "outputs": [
    {
     "data": {
      "text/plain": [
       "Index(['id', 'mb_used', 'session_date', 'user_id', 'internet_month'], dtype='object')"
      ]
     },
     "execution_count": 24,
     "metadata": {},
     "output_type": "execute_result"
    }
   ],
   "source": [
    "df_internet.columns"
   ]
  },
  {
   "cell_type": "code",
   "execution_count": 25,
   "metadata": {},
   "outputs": [],
   "source": [
    "df_pivot_calls = df_calls.pivot_table(\n",
    "    values=['duration'], index=['user_id', 'call_month'], aggfunc=['sum']).reset_index()\n",
    "df_pivot_calls.columns = ['user_id', 'month', 'sum_duration']"
   ]
  },
  {
   "cell_type": "code",
   "execution_count": 26,
   "metadata": {},
   "outputs": [],
   "source": [
    "df_pivot_internet = df_internet.pivot_table(\n",
    "    values=['mb_used'], index=['user_id','internet_month'], aggfunc=['sum']).reset_index()\n",
    "df_pivot_internet.columns = ['user_id','month', 'mb_used']"
   ]
  },
  {
   "cell_type": "markdown",
   "metadata": {},
   "source": [
    "Сразу переведем мегабайты в гигабайты, которые требуются для расчета стоитмости"
   ]
  },
  {
   "cell_type": "code",
   "execution_count": 27,
   "metadata": {},
   "outputs": [],
   "source": [
    "df_pivot_internet['gb_used'] = np.ceil(df_pivot_internet['mb_used'] / 1024).astype(int)\n",
    "df_pivot_internet.drop(columns=['mb_used'], inplace=True)"
   ]
  },
  {
   "cell_type": "code",
   "execution_count": 28,
   "metadata": {},
   "outputs": [
    {
     "data": {
      "text/plain": [
       "Index(['id', 'message_date', 'user_id', 'message_month'], dtype='object')"
      ]
     },
     "execution_count": 28,
     "metadata": {},
     "output_type": "execute_result"
    }
   ],
   "source": [
    "df_messages.columns"
   ]
  },
  {
   "cell_type": "code",
   "execution_count": 29,
   "metadata": {},
   "outputs": [],
   "source": [
    "df_pivot_messages = df_messages.pivot_table(\n",
    "    values=['id'], index=['user_id', 'message_month'], aggfunc=['count']\n",
    ").reset_index()\n",
    "df_pivot_messages.columns = ['user_id', 'month', 'count_message']"
   ]
  },
  {
   "cell_type": "code",
   "execution_count": 30,
   "metadata": {},
   "outputs": [
    {
     "data": {
      "text/plain": [
       "count                              500\n",
       "mean     2018-06-30 18:57:35.999999744\n",
       "min                2018-01-01 00:00:00\n",
       "25%                2018-04-07 12:00:00\n",
       "50%                2018-07-02 12:00:00\n",
       "75%                2018-09-29 00:00:00\n",
       "max                2018-12-31 00:00:00\n",
       "Name: reg_date, dtype: object"
      ]
     },
     "execution_count": 30,
     "metadata": {},
     "output_type": "execute_result"
    }
   ],
   "source": [
    "df_users['reg_date'].describe(datetime_is_numeric=True)"
   ]
  },
  {
   "cell_type": "markdown",
   "metadata": {},
   "source": [
    "Создание основной сводной таблицы"
   ]
  },
  {
   "cell_type": "code",
   "execution_count": 31,
   "metadata": {},
   "outputs": [],
   "source": [
    "df_users['reg_month'] = df_users['reg_date'].dt.month\n",
    "df_users['unreg_month'] = df_users['churn_date'].dt.month"
   ]
  },
  {
   "cell_type": "code",
   "execution_count": 32,
   "metadata": {},
   "outputs": [
    {
     "data": {
      "text/plain": [
       "Index(['user_id', 'age', 'churn_date', 'city', 'first_name', 'last_name',\n",
       "       'reg_date', 'tariff', 'reg_month', 'unreg_month'],\n",
       "      dtype='object')"
      ]
     },
     "execution_count": 32,
     "metadata": {},
     "output_type": "execute_result"
    }
   ],
   "source": [
    "df_users.columns"
   ]
  },
  {
   "cell_type": "code",
   "execution_count": 33,
   "metadata": {},
   "outputs": [],
   "source": [
    "df_main = pd.DataFrame(columns=['user_id', 'age', 'churn_date', 'city', 'first_name', 'last_name', \n",
    "                                'reg_date', 'tariff', 'reg_month', 'unreg_month', 'month'])\n"
   ]
  },
  {
   "cell_type": "code",
   "execution_count": 34,
   "metadata": {},
   "outputs": [],
   "source": [
    "def app_users(row):\n",
    "    global df_main\n",
    "    if row['unreg_month'] is None:\n",
    "        max_month = row['unreg_month']\n",
    "    else:\n",
    "        max_month = 13\n",
    "    for i in range(row['reg_month'] + 1, int(max_month)):\n",
    "        row['month'] = i\n",
    "        df_main = df_main.append(row)\n",
    "    return row"
   ]
  },
  {
   "cell_type": "code",
   "execution_count": 35,
   "metadata": {},
   "outputs": [
    {
     "data": {
      "text/html": [
       "<div>\n",
       "<style scoped>\n",
       "    .dataframe tbody tr th:only-of-type {\n",
       "        vertical-align: middle;\n",
       "    }\n",
       "\n",
       "    .dataframe tbody tr th {\n",
       "        vertical-align: top;\n",
       "    }\n",
       "\n",
       "    .dataframe thead th {\n",
       "        text-align: right;\n",
       "    }\n",
       "</style>\n",
       "<table border=\"1\" class=\"dataframe\">\n",
       "  <thead>\n",
       "    <tr style=\"text-align: right;\">\n",
       "      <th></th>\n",
       "      <th>age</th>\n",
       "      <th>churn_date</th>\n",
       "      <th>city</th>\n",
       "      <th>first_name</th>\n",
       "      <th>last_name</th>\n",
       "      <th>month</th>\n",
       "      <th>reg_date</th>\n",
       "      <th>reg_month</th>\n",
       "      <th>tariff</th>\n",
       "      <th>unreg_month</th>\n",
       "      <th>user_id</th>\n",
       "    </tr>\n",
       "  </thead>\n",
       "  <tbody>\n",
       "    <tr>\n",
       "      <th>0</th>\n",
       "      <td>52</td>\n",
       "      <td>NaT</td>\n",
       "      <td>Краснодар</td>\n",
       "      <td>Рафаил</td>\n",
       "      <td>Верещагин</td>\n",
       "      <td>12.000</td>\n",
       "      <td>2018-05-25</td>\n",
       "      <td>5</td>\n",
       "      <td>ultra</td>\n",
       "      <td>NaN</td>\n",
       "      <td>1000</td>\n",
       "    </tr>\n",
       "  </tbody>\n",
       "</table>\n",
       "</div>"
      ],
      "text/plain": [
       "   age churn_date       city first_name  last_name  month   reg_date  \\\n",
       "0   52        NaT  Краснодар     Рафаил  Верещагин 12.000 2018-05-25   \n",
       "\n",
       "   reg_month tariff  unreg_month  user_id  \n",
       "0          5  ultra          NaN     1000  "
      ]
     },
     "execution_count": 35,
     "metadata": {},
     "output_type": "execute_result"
    }
   ],
   "source": [
    "df_users.apply(app_users, axis=1).head(1)"
   ]
  },
  {
   "cell_type": "code",
   "execution_count": 36,
   "metadata": {},
   "outputs": [],
   "source": [
    "df_main = df_main.merge(df_pivot_internet, how='left', on=['user_id', 'month'])\n",
    "df_main = df_main.merge(df_pivot_calls, how='left', on=['user_id', 'month'])\n",
    "df_main = df_main.merge(df_pivot_messages, how='left', on=['user_id', 'month'])"
   ]
  },
  {
   "cell_type": "markdown",
   "metadata": {},
   "source": [
    "Получили сводную таблицу, только с полными месяцами использования. Есть некоторые месяцы с пропусками, скорее всего связано с тем, что человек не пользовался услугами связи в эти месяцы. Заполним нулями, чтоб пропуски отображались в статистике"
   ]
  },
  {
   "cell_type": "code",
   "execution_count": 37,
   "metadata": {},
   "outputs": [],
   "source": [
    "columns_for_change_none = ['sum_duration', 'gb_used', 'count_message']\n",
    "for column in columns_for_change_none:\n",
    "    df_main[column].fillna(value=0, inplace=True)"
   ]
  },
  {
   "cell_type": "code",
   "execution_count": 38,
   "metadata": {},
   "outputs": [],
   "source": [
    "df_main.rename(columns={'tariff' : 'tariff_name'}, inplace=True)\n",
    "df_main = df_main.merge(df_tariffs, how='outer', on='tariff_name')"
   ]
  },
  {
   "cell_type": "code",
   "execution_count": 39,
   "metadata": {},
   "outputs": [
    {
     "data": {
      "text/plain": [
       "<AxesSubplot:>"
      ]
     },
     "execution_count": 39,
     "metadata": {},
     "output_type": "execute_result"
    },
    {
     "data": {
      "image/png": "[encoded data removed]",
      "text/plain": [
       "<Figure size 432x288 with 1 Axes>"
      ]
     },
     "metadata": {
      "needs_background": "light"
     },
     "output_type": "display_data"
    }
   ],
   "source": [
    "# Какой % использован из выделенного тарифа\n",
    "df_main['per_minutes'] = df_main['sum_duration'] / df_main['minutes_included']\n",
    "df_main['per_minutes'].hist(bins=100)"
   ]
  },
  {
   "cell_type": "markdown",
   "metadata": {},
   "source": [
    "Наткнулся на проблему: что есть включенные мегабайты, а цена за гигабайты... поэтому переводим в гигабайты как делали ранее"
   ]
  },
  {
   "cell_type": "code",
   "execution_count": 40,
   "metadata": {},
   "outputs": [],
   "source": [
    "df_main['gb_included'] = (df_main['mb_per_month_included']/1024).astype(int)\n",
    "df_main.drop(columns='mb_per_month_included', inplace=True)"
   ]
  },
  {
   "cell_type": "code",
   "execution_count": 41,
   "metadata": {},
   "outputs": [],
   "source": [
    "def check_money(include, spent, price):\n",
    "    def check_money_inside(row):\n",
    "        nonlocal include, spent, price\n",
    "        if row[spent] <= row[include]:\n",
    "            return 0 \n",
    "        elif row[spent] > row[include]:\n",
    "            return (row[spent] - row[include])*row[price] \n",
    "    return check_money_inside\n",
    "    \n",
    "minutes = check_money('minutes_included', 'sum_duration', 'rub_per_minute')\n",
    "internet = check_money('gb_included', 'gb_used', 'rub_per_gb')\n",
    "messages = check_money('messages_included', 'count_message', 'rub_per_message')"
   ]
  },
  {
   "cell_type": "code",
   "execution_count": 42,
   "metadata": {},
   "outputs": [],
   "source": [
    "def check_money(include, spent, price):\n",
    "    '''Функция для подсчета затраченного сверх тарифа(минут/гб/смс)'''\n",
    "    def check_money_inside(row):\n",
    "        nonlocal include, spent, price\n",
    "        return 0 if row[spent] <= row[include] else (row[spent] - row[include])*row[price]\n",
    "    return check_money_inside\n",
    "    \n",
    "minutes = check_money('minutes_included', 'sum_duration', 'rub_per_minute')\n",
    "internet = check_money('gb_included', 'gb_used', 'rub_per_gb')\n",
    "messages = check_money('messages_included', 'count_message', 'rub_per_message')"
   ]
  },
  {
   "cell_type": "code",
   "execution_count": 43,
   "metadata": {},
   "outputs": [],
   "source": [
    "df_main['total_rub_duration'] = df_main.apply(minutes, axis=1)\n",
    "df_main['total_rub_internet'] = df_main.apply(internet, axis=1)\n",
    "df_main['total_rub_messages'] = df_main.apply(messages, axis=1)\n",
    "df_main['total_rub_service'] = df_main['total_rub_duration'] + \\\n",
    "    df_main['total_rub_internet'] + df_main['total_rub_messages'] \n",
    "df_main['total_rub'] = df_main['total_rub_service'] + \\\n",
    "    df_main['rub_monthly_fee']"
   ]
  },
  {
   "cell_type": "code",
   "execution_count": 44,
   "metadata": {},
   "outputs": [],
   "source": [
    "df_main['service_bool'] = df_main.apply(\n",
    "    lambda row: 0 if row['total_rub'] == row['rub_monthly_fee'] else 1, axis=1\n",
    ")"
   ]
  },
  {
   "cell_type": "code",
   "execution_count": 45,
   "metadata": {},
   "outputs": [],
   "source": [
    "df_ultra = df_main.query('tariff_name == \"ultra\"')\n",
    "df_smart = df_main.query('tariff_name == \"smart\"')"
   ]
  },
  {
   "cell_type": "markdown",
   "metadata": {},
   "source": [
    "Данные подготовил, далее идет аналитика, гипотезы и т.п., предварительно удаляю все левые переменные, чтоб глаза не мазолили"
   ]
  },
  {
   "cell_type": "code",
   "execution_count": 46,
   "metadata": {},
   "outputs": [],
   "source": [
    "del df_calls, df_internet, df_users, df_tariffs, df_messages\n",
    "del df_pivot_calls, df_pivot_internet, df_pivot_messages, \n",
    "del column, columns_for_change_none"
   ]
  },
  {
   "cell_type": "markdown",
   "metadata": {},
   "source": [
    "### Ответы на вопросы и анализ"
   ]
  },
  {
   "cell_type": "markdown",
   "metadata": {},
   "source": [
    "#### Функция отрисовки"
   ]
  },
  {
   "cell_type": "code",
   "execution_count": 132,
   "metadata": {},
   "outputs": [],
   "source": [
    "def show_hist(name_column, text, hist_range, ylim=True):\n",
    "    '''Функция для отрисовки графика и вывода основных значений\n",
    "\n",
    "    Args:\n",
    "        name_column (str): колонка df по которой строить\n",
    "        text (str): Название таблицы\n",
    "        hist_range (tuple): Диапазон для которой строить гистограмму плотностей\n",
    "        ylim (list): Высота по y для абсолютных значений\n",
    "    '''\n",
    "    ultra_list = df_ultra[name_column]\n",
    "    ultra_std = np.std(ultra_list)  # Стандартное отклонение\n",
    "    ultra_var = np.var(ultra_list)  # Дисперсия\n",
    "    ultra_mean = ultra_list.mean()  # Мат. ожидание\n",
    "\n",
    "    smart_list = df_smart[name_column]\n",
    "    smart_std = np.std(smart_list)\n",
    "    smart_var = np.var(smart_list)\n",
    "    smart_mean = smart_list.mean()\n",
    "\n",
    "    fig = plt.figure(figsize=(14,5))\n",
    "    x_axis = np.arange(*hist_range)\n",
    "    ax1 = fig.add_subplot(121)\n",
    "    ax1.plot(x_axis, st.norm.pdf(x_axis, smart_mean, smart_std), color='red', label='Smart')\n",
    "    ax1.plot(x_axis, st.norm.pdf(x_axis, ultra_mean, ultra_std), color='blue', label='Ultra')\n",
    "    plt.ylabel('Плотность распределения')\n",
    "    plt.xlabel('Значения')\n",
    "    plt.title(text)\n",
    "    plt.legend()\n",
    "    ax2 = fig.add_subplot(122)\n",
    "    df_smart_group = df_smart.groupby(name_column)['user_id'].count()\n",
    "    df_ultra_group = df_ultra.groupby(name_column)['user_id'].count()\n",
    "    ax2.plot(df_smart_group, color='red', label='Smart')\n",
    "    ax2.plot(df_ultra_group, color='blue', label='Ultra')\n",
    "    plt.ylim(ylim)\n",
    "    plt.xlabel('Значения')\n",
    "    plt.title('График абсолютных значений')\n",
    "    plt.legend()\n",
    "    plt.show\n",
    "    print(f'STD (Ultra) | STD (Smart) : {ultra_std:.2f} | {smart_std:.2f}')\n",
    "    print(f'VAR (Ultra) | VAR (Smart) : {ultra_var:.2f} | {smart_var:.2f}')\n",
    "    print(f'MEAN (Ultra)| MEAN (Smart): {ultra_mean:.2f} | {smart_mean:.2f}')\n"
   ]
  },
  {
   "cell_type": "markdown",
   "metadata": {},
   "source": [
    "#### Использование интернета"
   ]
  },
  {
   "cell_type": "code",
   "execution_count": 133,
   "metadata": {},
   "outputs": [
    {
     "name": "stdout",
     "output_type": "stream",
     "text": [
      "STD (Ultra) | STD (Smart) : 9.82 | 5.19\n",
      "VAR (Ultra) | VAR (Smart) : 96.40 | 26.92\n",
      "MEAN (Ultra)| MEAN (Smart): 20.44 | 17.34\n"
     ]
    },
    {
     "data": {
      "image/png": "[encoded data removed]",
      "text/plain": [
       "<Figure size 1008x360 with 2 Axes>"
      ]
     },
     "metadata": {
      "needs_background": "light"
     },
     "output_type": "display_data"
    }
   ],
   "source": [
    "show_hist('gb_used', 'Используемый трафик интернет в Gb', (0,50,1))"
   ]
  },
  {
   "cell_type": "code",
   "execution_count": 119,
   "metadata": {},
   "outputs": [
    {
     "name": "stdout",
     "output_type": "stream",
     "text": [
      "Пользователи тарифа \"Смарт\", использующие больше включенного трафика: 72.03%\n",
      "Пользователи тарифа \"Ультра\", использующие больше включенного трафика: 17.04%\n"
     ]
    }
   ],
   "source": [
    "per_smart = len(df_smart.query('gb_used >= gb_included')) / len(df_smart)\n",
    "per_ultra = len(df_ultra.query('gb_used >= gb_included')) / len(df_ultra)\n",
    "print(f'Пользователи тарифа \"Смарт\", использующие больше включенного трафика: {per_smart:.2%}')\n",
    "print(f'Пользователи тарифа \"Ультра\", использующие больше включенного трафика: {per_ultra:.2%}')"
   ]
  },
  {
   "cell_type": "markdown",
   "metadata": {},
   "source": [
    "По гистограмме распределения видно\n",
    "- Люди использующие тариф смарт стараются попадать в тариф и следят за трафиком, но далеко не всегда выходит\n",
    "- Пользователи тарифа \"Ультра\" какие то пофигисты и всего 1/5 использует сверх трафика\n",
    "- Разброс используемоего трафика в тарифе ультра гораздо больше, соответственно и дисперсия больше\n",
    "- Интересно, что среднее значение у тарифов отличается всего на 3гб по выборке... но это толком ни о чем не говорит"
   ]
  },
  {
   "cell_type": "markdown",
   "metadata": {},
   "source": [
    "#### Использование мобильной связи"
   ]
  },
  {
   "cell_type": "code",
   "execution_count": 134,
   "metadata": {},
   "outputs": [
    {
     "name": "stdout",
     "output_type": "stream",
     "text": [
      "STD (Ultra) | STD (Smart) : 317.04 | 182.99\n",
      "VAR (Ultra) | VAR (Smart) : 100517.38 | 33483.51\n",
      "MEAN (Ultra)| MEAN (Smart): 553.26 | 444.86\n"
     ]
    },
    {
     "data": {
      "image/png": "[encoded data removed]",
      "text/plain": [
       "<Figure size 1008x360 with 2 Axes>"
      ]
     },
     "metadata": {
      "needs_background": "light"
     },
     "output_type": "display_data"
    }
   ],
   "source": [
    "show_hist('sum_duration', 'Общая продолжительность разговоров', (0, 1100, 5), ylim=[0,10])"
   ]
  },
  {
   "cell_type": "code",
   "execution_count": 124,
   "metadata": {},
   "outputs": [
    {
     "name": "stdout",
     "output_type": "stream",
     "text": [
      "Пользователи тарифа \"Смарт\", выговаривающие больше включенных минут: 38.33%\n",
      "Пользователи тарифа \"Ультра\", выговаривающие больше включенных минут: 0.00%\n"
     ]
    }
   ],
   "source": [
    "per_smart = len(df_smart.query('sum_duration >= minutes_included')) / len(df_smart)\n",
    "per_ultra = len(df_ultra.query('sum_duration >= minutes_included')) / len(df_ultra)\n",
    "print(f'Пользователи тарифа \"Смарт\", выговаривающие больше включенных минут: {per_smart:.2%}')\n",
    "print(f'Пользователи тарифа \"Ультра\", выговаривающие больше включенных минут: {per_ultra:.2%}')"
   ]
  },
  {
   "cell_type": "markdown",
   "metadata": {},
   "source": [
    "Есть некоторая схожесть с ситуацией с интернетом:\n",
    "- Дисперсия длительности звонков пользователей тарифа \"Ультра\" ну и как следствие график растянут. возможно также связано с тем что выборка меньше по пользователям Ультра\n",
    "- Пользователи тарифа \"Ультра\" реже выходят за минуты включенные в тариф(В выборке вообще нет таких людей)  \n",
    "- Разница среднего у пользователей не очень большая: менее 100минут в месяц"
   ]
  },
  {
   "cell_type": "markdown",
   "metadata": {},
   "source": [
    "#### Смс"
   ]
  },
  {
   "cell_type": "code",
   "execution_count": 125,
   "metadata": {},
   "outputs": [
    {
     "data": {
      "text/plain": [
       "Index(['user_id', 'age', 'churn_date', 'city', 'first_name', 'last_name',\n",
       "       'reg_date', 'tariff_name', 'reg_month', 'unreg_month', 'month',\n",
       "       'gb_used', 'sum_duration', 'count_message', 'messages_included',\n",
       "       'minutes_included', 'rub_monthly_fee', 'rub_per_gb', 'rub_per_message',\n",
       "       'rub_per_minute', 'per_minutes', 'gb_included', 'total_rub_duration',\n",
       "       'total_rub_internet', 'total_rub_messages', 'total_rub_service',\n",
       "       'total_rub', 'service_bool'],\n",
       "      dtype='object')"
      ]
     },
     "execution_count": 125,
     "metadata": {},
     "output_type": "execute_result"
    }
   ],
   "source": [
    "df_smart.columns"
   ]
  },
  {
   "cell_type": "code",
   "execution_count": 131,
   "metadata": {},
   "outputs": [
    {
     "name": "stdout",
     "output_type": "stream",
     "text": [
      "STD (Ultra) | STD (Smart) : 48.88 | 28.75\n",
      "VAR (Ultra) | VAR (Smart) : 2389.38 | 826.46\n",
      "MEAN (Ultra)| MEAN (Smart): 51.23 | 35.57\n"
     ]
    },
    {
     "data": {
      "image/png": "[encoded data removed]",
      "text/plain": [
       "<Figure size 1008x360 with 2 Axes>"
      ]
     },
     "metadata": {
      "needs_background": "light"
     },
     "output_type": "display_data"
    }
   ],
   "source": [
    "show_hist('count_message', 'График средних ежемесячных смс', (0, 150, 5), ylim=[0,40])"
   ]
  },
  {
   "cell_type": "code",
   "execution_count": 129,
   "metadata": {},
   "outputs": [
    {
     "name": "stdout",
     "output_type": "stream",
     "text": [
      "Пользователи тарифа \"Смарт\", кто шлёт смс больше положенного: 28.71%\n",
      "Пользователи тарифа \"Ультра\", кто шлёт смс больше положенного: 0.00%\n"
     ]
    }
   ],
   "source": [
    "per_smart = len(df_smart.query('count_message >= messages_included')) / len(df_smart)\n",
    "per_ultra = len(df_ultra.query('count_message >= messages_included')) / len(df_ultra)\n",
    "print(f'Пользователи тарифа \"Смарт\", кто шлёт смс больше положенного: {per_smart:.2%}')\n",
    "print(f'Пользователи тарифа \"Ультра\", кто шлёт смс больше положенного: {per_ultra:.2%}')"
   ]
  },
  {
   "cell_type": "code",
   "execution_count": 130,
   "metadata": {},
   "outputs": [
    {
     "data": {
      "text/plain": [
       "count   2,759.000\n",
       "mean       40.432\n",
       "std        36.946\n",
       "min         0.000\n",
       "25%        11.000\n",
       "50%        33.000\n",
       "75%        60.000\n",
       "max       224.000\n",
       "Name: count_message, dtype: float64"
      ]
     },
     "execution_count": 130,
     "metadata": {},
     "output_type": "execute_result"
    }
   ],
   "source": [
    "df_main['count_message'].describe()"
   ]
  },
  {
   "cell_type": "markdown",
   "metadata": {},
   "source": [
    "Удивлен, довольно много пользователей сих пор пользуются смс. в средним 1шт. в месяц. Распределения использования смс напоминает распределения использования мобильной связи и интернет трафика.  \n",
    "Единственно людей которые посылают смс больше чем включено в тариф меньше, по сравнению с людьми превыщаюшими тариф интернета и телефона"
   ]
  },
  {
   "cell_type": "code",
   "execution_count": 136,
   "metadata": {},
   "outputs": [
    {
     "data": {
      "text/plain": [
       "Index(['user_id', 'age', 'churn_date', 'city', 'first_name', 'last_name',\n",
       "       'reg_date', 'tariff_name', 'reg_month', 'unreg_month', 'month',\n",
       "       'gb_used', 'sum_duration', 'count_message', 'messages_included',\n",
       "       'minutes_included', 'rub_monthly_fee', 'rub_per_gb', 'rub_per_message',\n",
       "       'rub_per_minute', 'per_minutes', 'gb_included', 'total_rub_duration',\n",
       "       'total_rub_internet', 'total_rub_messages', 'total_rub_service',\n",
       "       'total_rub', 'service_bool'],\n",
       "      dtype='object')"
      ]
     },
     "execution_count": 136,
     "metadata": {},
     "output_type": "execute_result"
    }
   ],
   "source": [
    "df_main.columns"
   ]
  },
  {
   "cell_type": "code",
   "execution_count": 139,
   "metadata": {},
   "outputs": [
    {
     "data": {
      "text/plain": [
       "43"
      ]
     },
     "execution_count": 139,
     "metadata": {},
     "output_type": "execute_result"
    }
   ],
   "source": [
    "len(df_main.query('sum_duration == 0 and count_message == 0 and gb_used == 0'))"
   ]
  },
  {
   "cell_type": "markdown",
   "metadata": {},
   "source": [
    "#### Сравнение выручки"
   ]
  },
  {
   "cell_type": "code",
   "execution_count": 149,
   "metadata": {},
   "outputs": [
    {
     "name": "stdout",
     "output_type": "stream",
     "text": [
      "STD (Ultra) | STD (Smart) : 399.37 | 829.35\n",
      "VAR (Ultra) | VAR (Smart) : 159492.73 | 687819.32\n",
      "MEAN (Ultra)| MEAN (Smart): 2086.35 | 1388.60\n"
     ]
    },
    {
     "data": {
      "image/png": "[encoded data removed]",
      "text/plain": [
       "<Figure size 1008x360 with 2 Axes>"
      ]
     },
     "metadata": {
      "needs_background": "light"
     },
     "output_type": "display_data"
    }
   ],
   "source": [
    "show_hist('total_rub','Распреление месячных трат', (0,3000))"
   ]
  },
  {
   "cell_type": "code",
   "execution_count": 145,
   "metadata": {},
   "outputs": [
    {
     "data": {
      "text/plain": [
       "<function matplotlib.pyplot.show(close=None, block=None)>"
      ]
     },
     "execution_count": 145,
     "metadata": {},
     "output_type": "execute_result"
    },
    {
     "data": {
      "image/png": "[encoded data removed]",
      "text/plain": [
       "<Figure size 432x288 with 2 Axes>"
      ]
     },
     "metadata": {
      "needs_background": "light"
     },
     "output_type": "display_data"
    }
   ],
   "source": [
    "plt.subplot(121)\n",
    "df_ultra['sum_duration'].plot(kind='box', label='Ultra')\n",
    "plt.subplot(122)\n",
    "df_smart['sum_duration'].plot(kind='box', label='Smart')\n",
    "\n",
    "plt.show"
   ]
  },
  {
   "cell_type": "markdown",
   "metadata": {},
   "source": [
    "Общий вывод:\n",
    "- 1.5% пользователей не пользуются связью вообще.(ну точнее в опреленные месяцы)\n",
    "- Выборка для пользователей тарифа \"Ультра\" имеет большую дисперсию и разброс данных(Это видно как и по гистограммам распределения, так и boxplot) Можно говорить о том что данных маловато\n",
    "- Пользователи тарифа \"Ультра\" реже используют услуги сверх нормы\n",
    "- Важно отметить, что основная часть докупаемых услуг - объем интернет трафика, реже: мобильная связь и смс. Компании стоит подумать о тарифе с увеличенным кол-вом трафика\n",
    "- На самом деле по графика ежемесячных платежей видно, что средняя выручка c пользовтелей разная... но по ТЗ надо проверить гипотезы, поэтому переходим к сл. части задания"
   ]
  },
  {
   "cell_type": "markdown",
   "metadata": {},
   "source": [
    "### Формулирование и проверка гипотез"
   ]
  },
  {
   "cell_type": "markdown",
   "metadata": {},
   "source": [
    "#### Гипотеза 1. Средняя выручка"
   ]
  },
  {
   "cell_type": "markdown",
   "metadata": {},
   "source": [
    "$H_0$ (Нулевая гипотеза) - Средняя выручка пользовтелей \"Ультра\" и \"Смарт\" различаются  \n",
    "$H_1$ (Альтернативная двухстороняя гипотеза) - Средняя выручка пользователей одинакова"
   ]
  },
  {
   "cell_type": "code",
   "execution_count": 152,
   "metadata": {},
   "outputs": [
    {
     "data": {
      "text/plain": [
       "7.680406705337264e-111"
      ]
     },
     "execution_count": 152,
     "metadata": {},
     "output_type": "execute_result"
    }
   ],
   "source": [
    "st.ttest_ind(df_smart['total_rub'], df_ultra['total_rub'], equal_var=True).pvalue"
   ]
  },
  {
   "cell_type": "markdown",
   "metadata": {},
   "source": [
    "e-111 .... тут никакой альфа не поможет. значения очень отличаются. гипотезу \"Выручки различаются\" не отвергаем"
   ]
  },
  {
   "cell_type": "markdown",
   "metadata": {},
   "source": [
    "#### Гипотеза 2. Региональная выручка"
   ]
  },
  {
   "cell_type": "markdown",
   "metadata": {},
   "source": [
    "$H_0$ (Нулевая гипотеза) - Средняя выручка пользовтелей из Москвы отличается   \n",
    "$H_1$ (Альтернативная двухстороняя гипотеза) - Средняя выручка пользователей всех регионов одинаковая  \n",
    "  \n",
    "Тут стоит наверно отметить, что сравнивать всех пользователей не очень корректно, поэтому правильно выбрать пользователей тарифа Смарт и их сравнить и пользователей тарифа Ультра их сравнить"
   ]
  },
  {
   "cell_type": "code",
   "execution_count": 154,
   "metadata": {},
   "outputs": [
    {
     "data": {
      "text/plain": [
       "Москва             321\n",
       "Санкт-Петербург    182\n",
       "Ульяновск           71\n",
       "Казань              61\n",
       "Уфа                 59\n",
       "                  ... \n",
       "Тула                 4\n",
       "Химки                4\n",
       "Нижний Тагил         4\n",
       "Тверь                4\n",
       "Оренбург             3\n",
       "Name: city, Length: 70, dtype: int64"
      ]
     },
     "execution_count": 154,
     "metadata": {},
     "output_type": "execute_result"
    }
   ],
   "source": [
    "df_smart['city'].value_counts()"
   ]
  },
  {
   "cell_type": "code",
   "execution_count": 159,
   "metadata": {},
   "outputs": [],
   "source": [
    "df_smart_moscow = df_smart.query('city == \"Москва\"')\n",
    "df_smart_another_region = df_smart.query('city != \"Москва\"')\n",
    "df_ultra_moscow = df_ultra.query('city == \"Москва\"')\n",
    "df_ultra_another_region = df_ultra.query('city != \"Москва\"')"
   ]
  },
  {
   "cell_type": "code",
   "execution_count": 163,
   "metadata": {},
   "outputs": [],
   "source": [
    "def ttest(df_1, df_2, alpha):\n",
    "    result = st.ttest_ind(df_1['total_rub'], df_2['total_rub']).pvalue\n",
    "    if  result < alpha:\n",
    "        print(f'Гипотезу не отвергаем, pvalue = {result:.2}')\n",
    "    else:\n",
    "        print(f'Гипотезу отвергаем, pvalue = {result:.2}')"
   ]
  },
  {
   "cell_type": "code",
   "execution_count": 164,
   "metadata": {},
   "outputs": [
    {
     "name": "stdout",
     "output_type": "stream",
     "text": [
      "Гипотезу отвергаем, pvalue = 0.36\n",
      "Гипотезу отвергаем, pvalue = 0.93\n"
     ]
    }
   ],
   "source": [
    "alpha = .05\n",
    "ttest(df_smart_moscow, df_smart_another_region, alpha)\n",
    "ttest(df_ultra_moscow, df_ultra_another_region, alpha)"
   ]
  },
  {
   "cell_type": "code",
   "execution_count": 173,
   "metadata": {},
   "outputs": [
    {
     "data": {
      "text/plain": [
       "<function matplotlib.pyplot.show(close=None, block=None)>"
      ]
     },
     "execution_count": 173,
     "metadata": {},
     "output_type": "execute_result"
    },
    {
     "data": {
      "image/png": "[encoded data removed]",
      "text/plain": [
       "<Figure size 432x288 with 1 Axes>"
      ]
     },
     "metadata": {
      "needs_background": "light"
     },
     "output_type": "display_data"
    }
   ],
   "source": [
    "moscow_mean = df_smart_moscow['total_rub'].mean()\n",
    "moscow_std = np.std(df_smart_moscow['total_rub'])\n",
    "another_region_mean = df_smart_another_region['total_rub'].mean()\n",
    "another_region_std = np.std(df_smart_another_region['total_rub'])\n",
    "x_axis = np.arange(0,2500,20)\n",
    "plt.plot(x_axis, st.norm.pdf(x_axis, moscow_mean, moscow_std), color='red', label='Москва')\n",
    "plt.plot(x_axis, st.norm.pdf(x_axis, another_region_mean, another_region_std), color='blue', label='Другие регионы')\n",
    "plt.xlabel('Руб')\n",
    "plt.title('Гистограмма распределения ежемесячной выручки (тариф \"Смарт\")')\n",
    "plt.legend()\n",
    "plt.show"
   ]
  },
  {
   "cell_type": "markdown",
   "metadata": {},
   "source": [
    "### Общий вывод"
   ]
  },
  {
   "cell_type": "markdown",
   "metadata": {},
   "source": [
    "- Выборка пользователей тарифа \"Ультра\" маловата\n",
    "- Большинство пользователей переплачивают за интернет (надо подумать о соответствующем тарифе)\n",
    "- Пользователи тарифа \"Ультра\" гораздо реже выходит за пределы тарифа(вполне логично)\n",
    "- Гипотезу \"Пользователи тарифа \"Ультра\" и \"Смарт\" имеют разную выручку\" - **Не отвергаем**:\n",
    "- Гипотезу \"Выручка пользователей из Москвы отличается от выручки пользователей из др.регионов\" - **Отвергаем**:\n",
    "- 21век... а смс актуальны... \n"
   ]
  }
 ],
 "metadata": {
  "interpreter": {
   "hash": "b1a8b63bdf27559490c16144d51d3a6902ecbd7b7872de05b273d065c9a99ab9"
  },
  "kernelspec": {
   "display_name": "Python 3.10.0 64-bit",
   "language": "python",
   "name": "python3"
  },
  "language_info": {
   "codemirror_mode": {
    "name": "ipython",
    "version": 3
   },
   "file_extension": ".py",
   "mimetype": "text/x-python",
   "name": "python",
   "nbconvert_exporter": "python",
   "pygments_lexer": "ipython3",
   "version": "3.9.7"
  },
  "orig_nbformat": 4
 },
 "nbformat": 4,
 "nbformat_minor": 2
}
